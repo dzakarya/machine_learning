{
 "cells": [
  {
   "cell_type": "code",
   "execution_count": 1,
   "id": "0140a90c",
   "metadata": {},
   "outputs": [],
   "source": [
    "from sklearn import datasets\n",
    "from sklearn.model_selection import train_test_split\n",
    "from sklearn.preprocessing import StandardScaler\n",
    "import numpy as np\n",
    "import matplotlib.pyplot as plt\n",
    "from sklearn.neighbors import KNeighborsClassifier\n",
    "from sklearn.model_selection import GridSearchCV\n",
    "from sklearn import metrics"
   ]
  },
  {
   "cell_type": "markdown",
   "id": "617050d6",
   "metadata": {},
   "source": [
    "# K-NN\n",
    "The KNN algorithm assumes that similar things exist in close proximity. In other words, similar things are near to each other.\n",
    "\n",
    "#### “Birds of a feather flock together.”\n",
    "\n",
    "![knn](knn.png)"
   ]
  },
  {
   "cell_type": "markdown",
   "id": "f99322b1",
   "metadata": {},
   "source": [
    "# How does K-NN works\n",
    "### The K-NN working can be explained on the basis of the below algorithm:\n",
    "- Step-1: Select the number K of the neighbors\n",
    "- Step-2: Calculate the Euclidean distance of K number of neighbors\n",
    "- Step-3: Take the K nearest neighbors as per the calculated Euclidean distance.\n",
    "- Step-4: Among these k neighbors, count the number of the data points in each category.\n",
    "- Step-5: Assign the new data points to that category for which the number of the neighbor is maximum.\n",
    "- Step-6: Our model is ready."
   ]
  },
  {
   "cell_type": "code",
   "execution_count": 2,
   "id": "5cbed121",
   "metadata": {},
   "outputs": [],
   "source": [
    "data = datasets.load_iris() #load dataset"
   ]
  },
  {
   "cell_type": "code",
   "execution_count": 3,
   "id": "6c278303",
   "metadata": {},
   "outputs": [
    {
     "data": {
      "text/plain": [
       "((150, 4), (150,))"
      ]
     },
     "execution_count": 3,
     "metadata": {},
     "output_type": "execute_result"
    }
   ],
   "source": [
    "X = data.data\n",
    "Y = data.target\n",
    "X.shape, Y.shape"
   ]
  },
  {
   "cell_type": "code",
   "execution_count": 4,
   "id": "8e17e6d7",
   "metadata": {},
   "outputs": [],
   "source": [
    "#Normalize dataset\n",
    "sc = StandardScaler()\n",
    "X = sc.fit_transform(X)"
   ]
  },
  {
   "cell_type": "code",
   "execution_count": 5,
   "id": "b39971f7",
   "metadata": {},
   "outputs": [
    {
     "data": {
      "text/plain": [
       "KNeighborsClassifier(n_neighbors=2)"
      ]
     },
     "execution_count": 5,
     "metadata": {},
     "output_type": "execute_result"
    }
   ],
   "source": [
    "#build SVC with optimum paramater\n",
    "model = KNeighborsClassifier(n_neighbors=2)\n",
    "model.fit(X,Y)"
   ]
  },
  {
   "cell_type": "code",
   "execution_count": 6,
   "id": "f74cc2e3",
   "metadata": {},
   "outputs": [],
   "source": [
    "y_pred = model.predict(X)"
   ]
  },
  {
   "cell_type": "code",
   "execution_count": 7,
   "id": "06d491d8",
   "metadata": {},
   "outputs": [
    {
     "name": "stdout",
     "output_type": "stream",
     "text": [
      "Accuracy: 0.9733333333333334\n",
      "Recall: 0.9733333333333334\n",
      "F1_socre: 0.9733760683760683\n",
      "Accuracy: 0.9754666666666666\n"
     ]
    }
   ],
   "source": [
    "acc = metrics.accuracy_score(y_pred,Y)\n",
    "rec = metrics.recall_score(y_pred,Y, average='weighted')\n",
    "f1  = metrics.f1_score(y_pred,Y, average='weighted')\n",
    "prec = metrics.precision_score(y_pred,Y, average='weighted')\n",
    "print(f'Accuracy: {acc}')\n",
    "print(f'Recall: {rec}')\n",
    "print(f'F1_socre: {f1}')\n",
    "print(f'Accuracy: {prec}')"
   ]
  },
  {
   "cell_type": "code",
   "execution_count": 8,
   "id": "e0cc16bf",
   "metadata": {},
   "outputs": [
    {
     "name": "stdout",
     "output_type": "stream",
     "text": [
      "              precision    recall  f1-score   support\n",
      "\n",
      "           0       1.00      1.00      1.00        50\n",
      "           1       1.00      0.93      0.96        54\n",
      "           2       0.92      1.00      0.96        46\n",
      "\n",
      "    accuracy                           0.97       150\n",
      "   macro avg       0.97      0.98      0.97       150\n",
      "weighted avg       0.98      0.97      0.97       150\n",
      "\n"
     ]
    }
   ],
   "source": [
    "print(metrics.classification_report(y_pred, Y))"
   ]
  },
  {
   "cell_type": "code",
   "execution_count": null,
   "id": "3d428bb8",
   "metadata": {},
   "outputs": [],
   "source": []
  }
 ],
 "metadata": {
  "kernelspec": {
   "display_name": "Python 3 (ipykernel)",
   "language": "python",
   "name": "python3"
  },
  "language_info": {
   "codemirror_mode": {
    "name": "ipython",
    "version": 3
   },
   "file_extension": ".py",
   "mimetype": "text/x-python",
   "name": "python",
   "nbconvert_exporter": "python",
   "pygments_lexer": "ipython3",
   "version": "3.8.10"
  }
 },
 "nbformat": 4,
 "nbformat_minor": 5
}
