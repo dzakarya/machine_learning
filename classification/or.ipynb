{
 "cells": [
  {
   "cell_type": "code",
   "execution_count": 1,
   "id": "169dba77",
   "metadata": {},
   "outputs": [
    {
     "name": "stderr",
     "output_type": "stream",
     "text": [
      "2022-01-30 17:06:50.053330: I tensorflow/stream_executor/platform/default/dso_loader.cc:48] Successfully opened dynamic library libcudart.so.10.1\n"
     ]
    }
   ],
   "source": [
    "import tensorflow as tf\n",
    "import numpy as np\n",
    "import matplotlib.pyplot as plt"
   ]
  },
  {
   "cell_type": "code",
   "execution_count": 2,
   "id": "3ae41751",
   "metadata": {},
   "outputs": [],
   "source": [
    "x = np.array([[0,0],[0,1],[1,0],[1,1]],dtype=\"float32\")\n",
    "y = np.array([[0],[1],[1],[1]],dtype=\"float32\")"
   ]
  },
  {
   "cell_type": "code",
   "execution_count": 3,
   "id": "17b2e4e9",
   "metadata": {},
   "outputs": [
    {
     "name": "stderr",
     "output_type": "stream",
     "text": [
      "2022-01-30 17:06:51.131953: I tensorflow/stream_executor/platform/default/dso_loader.cc:48] Successfully opened dynamic library libcuda.so.1\n",
      "2022-01-30 17:06:51.159713: I tensorflow/stream_executor/cuda/cuda_gpu_executor.cc:982] successful NUMA node read from SysFS had negative value (-1), but there must be at least one NUMA node, so returning NUMA node zero\n",
      "2022-01-30 17:06:51.159935: I tensorflow/core/common_runtime/gpu/gpu_device.cc:1716] Found device 0 with properties: \n",
      "pciBusID: 0000:01:00.0 name: NVIDIA GeForce RTX 2060 SUPER computeCapability: 7.5\n",
      "coreClock: 1.665GHz coreCount: 34 deviceMemorySize: 7.79GiB deviceMemoryBandwidth: 417.29GiB/s\n",
      "2022-01-30 17:06:51.159949: I tensorflow/stream_executor/platform/default/dso_loader.cc:48] Successfully opened dynamic library libcudart.so.10.1\n",
      "2022-01-30 17:06:51.160883: I tensorflow/stream_executor/platform/default/dso_loader.cc:48] Successfully opened dynamic library libcublas.so.10\n",
      "2022-01-30 17:06:51.161771: I tensorflow/stream_executor/platform/default/dso_loader.cc:48] Successfully opened dynamic library libcufft.so.10\n",
      "2022-01-30 17:06:51.161919: I tensorflow/stream_executor/platform/default/dso_loader.cc:48] Successfully opened dynamic library libcurand.so.10\n",
      "2022-01-30 17:06:51.162961: I tensorflow/stream_executor/platform/default/dso_loader.cc:48] Successfully opened dynamic library libcusolver.so.10\n",
      "2022-01-30 17:06:51.163466: I tensorflow/stream_executor/platform/default/dso_loader.cc:48] Successfully opened dynamic library libcusparse.so.10\n",
      "2022-01-30 17:06:51.165368: I tensorflow/stream_executor/platform/default/dso_loader.cc:48] Successfully opened dynamic library libcudnn.so.7\n",
      "2022-01-30 17:06:51.165438: I tensorflow/stream_executor/cuda/cuda_gpu_executor.cc:982] successful NUMA node read from SysFS had negative value (-1), but there must be at least one NUMA node, so returning NUMA node zero\n",
      "2022-01-30 17:06:51.165687: I tensorflow/stream_executor/cuda/cuda_gpu_executor.cc:982] successful NUMA node read from SysFS had negative value (-1), but there must be at least one NUMA node, so returning NUMA node zero\n",
      "2022-01-30 17:06:51.165929: I tensorflow/core/common_runtime/gpu/gpu_device.cc:1858] Adding visible gpu devices: 0\n",
      "2022-01-30 17:06:51.166421: I tensorflow/core/platform/cpu_feature_guard.cc:142] This TensorFlow binary is optimized with oneAPI Deep Neural Network Library (oneDNN)to use the following CPU instructions in performance-critical operations:  AVX2 FMA\n",
      "To enable them in other operations, rebuild TensorFlow with the appropriate compiler flags.\n",
      "2022-01-30 17:06:51.170229: I tensorflow/core/platform/profile_utils/cpu_utils.cc:104] CPU Frequency: 3600000000 Hz\n",
      "2022-01-30 17:06:51.170473: I tensorflow/compiler/xla/service/service.cc:168] XLA service 0x1b89dd0 initialized for platform Host (this does not guarantee that XLA will be used). Devices:\n",
      "2022-01-30 17:06:51.170484: I tensorflow/compiler/xla/service/service.cc:176]   StreamExecutor device (0): Host, Default Version\n",
      "2022-01-30 17:06:51.214134: I tensorflow/stream_executor/cuda/cuda_gpu_executor.cc:982] successful NUMA node read from SysFS had negative value (-1), but there must be at least one NUMA node, so returning NUMA node zero\n",
      "2022-01-30 17:06:51.214434: I tensorflow/compiler/xla/service/service.cc:168] XLA service 0x41e5430 initialized for platform CUDA (this does not guarantee that XLA will be used). Devices:\n",
      "2022-01-30 17:06:51.214447: I tensorflow/compiler/xla/service/service.cc:176]   StreamExecutor device (0): NVIDIA GeForce RTX 2060 SUPER, Compute Capability 7.5\n",
      "2022-01-30 17:06:51.214573: I tensorflow/stream_executor/cuda/cuda_gpu_executor.cc:982] successful NUMA node read from SysFS had negative value (-1), but there must be at least one NUMA node, so returning NUMA node zero\n",
      "2022-01-30 17:06:51.214789: I tensorflow/core/common_runtime/gpu/gpu_device.cc:1716] Found device 0 with properties: \n",
      "pciBusID: 0000:01:00.0 name: NVIDIA GeForce RTX 2060 SUPER computeCapability: 7.5\n",
      "coreClock: 1.665GHz coreCount: 34 deviceMemorySize: 7.79GiB deviceMemoryBandwidth: 417.29GiB/s\n",
      "2022-01-30 17:06:51.214808: I tensorflow/stream_executor/platform/default/dso_loader.cc:48] Successfully opened dynamic library libcudart.so.10.1\n",
      "2022-01-30 17:06:51.214823: I tensorflow/stream_executor/platform/default/dso_loader.cc:48] Successfully opened dynamic library libcublas.so.10\n",
      "2022-01-30 17:06:51.214833: I tensorflow/stream_executor/platform/default/dso_loader.cc:48] Successfully opened dynamic library libcufft.so.10\n",
      "2022-01-30 17:06:51.214842: I tensorflow/stream_executor/platform/default/dso_loader.cc:48] Successfully opened dynamic library libcurand.so.10\n",
      "2022-01-30 17:06:51.214851: I tensorflow/stream_executor/platform/default/dso_loader.cc:48] Successfully opened dynamic library libcusolver.so.10\n",
      "2022-01-30 17:06:51.214860: I tensorflow/stream_executor/platform/default/dso_loader.cc:48] Successfully opened dynamic library libcusparse.so.10\n",
      "2022-01-30 17:06:51.214869: I tensorflow/stream_executor/platform/default/dso_loader.cc:48] Successfully opened dynamic library libcudnn.so.7\n",
      "2022-01-30 17:06:51.214905: I tensorflow/stream_executor/cuda/cuda_gpu_executor.cc:982] successful NUMA node read from SysFS had negative value (-1), but there must be at least one NUMA node, so returning NUMA node zero\n",
      "2022-01-30 17:06:51.215130: I tensorflow/stream_executor/cuda/cuda_gpu_executor.cc:982] successful NUMA node read from SysFS had negative value (-1), but there must be at least one NUMA node, so returning NUMA node zero\n",
      "2022-01-30 17:06:51.215325: I tensorflow/core/common_runtime/gpu/gpu_device.cc:1858] Adding visible gpu devices: 0\n",
      "2022-01-30 17:06:51.215342: I tensorflow/stream_executor/platform/default/dso_loader.cc:48] Successfully opened dynamic library libcudart.so.10.1\n",
      "2022-01-30 17:06:51.480104: I tensorflow/core/common_runtime/gpu/gpu_device.cc:1257] Device interconnect StreamExecutor with strength 1 edge matrix:\n",
      "2022-01-30 17:06:51.480124: I tensorflow/core/common_runtime/gpu/gpu_device.cc:1263]      0 \n",
      "2022-01-30 17:06:51.480130: I tensorflow/core/common_runtime/gpu/gpu_device.cc:1276] 0:   N \n",
      "2022-01-30 17:06:51.480265: I tensorflow/stream_executor/cuda/cuda_gpu_executor.cc:982] successful NUMA node read from SysFS had negative value (-1), but there must be at least one NUMA node, so returning NUMA node zero\n",
      "2022-01-30 17:06:51.480522: I tensorflow/stream_executor/cuda/cuda_gpu_executor.cc:982] successful NUMA node read from SysFS had negative value (-1), but there must be at least one NUMA node, so returning NUMA node zero\n",
      "2022-01-30 17:06:51.480734: I tensorflow/core/common_runtime/gpu/gpu_device.cc:1402] Created TensorFlow device (/job:localhost/replica:0/task:0/device:GPU:0 with 7005 MB memory) -> physical GPU (device: 0, name: NVIDIA GeForce RTX 2060 SUPER, pci bus id: 0000:01:00.0, compute capability: 7.5)\n"
     ]
    }
   ],
   "source": [
    "model = tf.keras.Sequential()\n",
    "model.add(tf.keras.layers.Dense(1,input_dim=2,activation=\"sigmoid\"))"
   ]
  },
  {
   "cell_type": "code",
   "execution_count": 4,
   "id": "9345ed09",
   "metadata": {},
   "outputs": [],
   "source": [
    "n_epoch = 100\n",
    "optimizer = tf.keras.optimizers.SGD(learning_rate=0.5) \n",
    "model.compile(optimizer=optimizer,loss=\"binary_crossentropy\", metrics=[\"accuracy\"])"
   ]
  },
  {
   "cell_type": "code",
   "execution_count": 5,
   "id": "fa694c91",
   "metadata": {},
   "outputs": [
    {
     "name": "stdout",
     "output_type": "stream",
     "text": [
      "Epoch 1/100\n",
      "1/1 [==============================] - 0s 856us/step - loss: 0.8862 - accuracy: 0.5000\n",
      "Epoch 2/100\n",
      "1/1 [==============================] - 0s 609us/step - loss: 0.7558 - accuracy: 0.2500\n",
      "Epoch 3/100\n",
      "1/1 [==============================] - 0s 612us/step - loss: 0.6665 - accuracy: 0.5000\n",
      "Epoch 4/100\n",
      "1/1 [==============================] - 0s 685us/step - loss: 0.6051 - accuracy: 0.5000\n",
      "Epoch 5/100\n",
      "1/1 [==============================] - 0s 740us/step - loss: 0.5616 - accuracy: 0.5000\n",
      "Epoch 6/100\n",
      "1/1 [==============================] - 0s 735us/step - loss: 0.5297 - accuracy: 0.7500\n",
      "Epoch 7/100\n",
      "1/1 [==============================] - 0s 628us/step - loss: 0.5054 - accuracy: 0.7500\n",
      "Epoch 8/100\n",
      "1/1 [==============================] - 0s 719us/step - loss: 0.4863 - accuracy: 0.7500\n",
      "Epoch 9/100\n",
      "1/1 [==============================] - 0s 656us/step - loss: 0.4706 - accuracy: 0.7500\n",
      "Epoch 10/100\n",
      "1/1 [==============================] - 0s 632us/step - loss: 0.4574 - accuracy: 0.7500\n",
      "Epoch 11/100\n",
      "1/1 [==============================] - 0s 736us/step - loss: 0.4459 - accuracy: 0.7500\n",
      "Epoch 12/100\n",
      "1/1 [==============================] - 0s 667us/step - loss: 0.4358 - accuracy: 0.7500\n",
      "Epoch 13/100\n",
      "1/1 [==============================] - 0s 577us/step - loss: 0.4266 - accuracy: 0.7500\n",
      "Epoch 14/100\n",
      "1/1 [==============================] - 0s 461us/step - loss: 0.4182 - accuracy: 0.7500\n",
      "Epoch 15/100\n",
      "1/1 [==============================] - 0s 490us/step - loss: 0.4104 - accuracy: 0.7500\n",
      "Epoch 16/100\n",
      "1/1 [==============================] - 0s 512us/step - loss: 0.4031 - accuracy: 0.7500\n",
      "Epoch 17/100\n",
      "1/1 [==============================] - 0s 594us/step - loss: 0.3962 - accuracy: 0.7500\n",
      "Epoch 18/100\n",
      "1/1 [==============================] - 0s 635us/step - loss: 0.3897 - accuracy: 0.7500\n",
      "Epoch 19/100\n",
      "1/1 [==============================] - 0s 650us/step - loss: 0.3834 - accuracy: 0.7500\n",
      "Epoch 20/100\n",
      "1/1 [==============================] - 0s 577us/step - loss: 0.3774 - accuracy: 0.7500\n",
      "Epoch 21/100\n",
      "1/1 [==============================] - 0s 527us/step - loss: 0.3715 - accuracy: 0.7500\n",
      "Epoch 22/100\n",
      "1/1 [==============================] - 0s 608us/step - loss: 0.3659 - accuracy: 0.7500\n",
      "Epoch 23/100\n",
      "1/1 [==============================] - 0s 565us/step - loss: 0.3605 - accuracy: 0.7500\n",
      "Epoch 24/100\n",
      "1/1 [==============================] - 0s 583us/step - loss: 0.3552 - accuracy: 0.7500\n",
      "Epoch 25/100\n",
      "1/1 [==============================] - ETA: 0s - loss: 0.3501 - accuracy: 0.7500"
     ]
    },
    {
     "name": "stderr",
     "output_type": "stream",
     "text": [
      "2022-01-30 17:06:51.750723: I tensorflow/stream_executor/platform/default/dso_loader.cc:48] Successfully opened dynamic library libcublas.so.10\n"
     ]
    },
    {
     "name": "stdout",
     "output_type": "stream",
     "text": [
      "1/1 [==============================] - 0s 665us/step - loss: 0.3501 - accuracy: 0.7500\n",
      "Epoch 26/100\n",
      "1/1 [==============================] - 0s 491us/step - loss: 0.3451 - accuracy: 0.7500\n",
      "Epoch 27/100\n",
      "1/1 [==============================] - 0s 469us/step - loss: 0.3403 - accuracy: 0.7500\n",
      "Epoch 28/100\n",
      "1/1 [==============================] - 0s 773us/step - loss: 0.3356 - accuracy: 0.7500\n",
      "Epoch 29/100\n",
      "1/1 [==============================] - 0s 600us/step - loss: 0.3310 - accuracy: 0.7500\n",
      "Epoch 30/100\n",
      "1/1 [==============================] - 0s 481us/step - loss: 0.3265 - accuracy: 0.7500\n",
      "Epoch 31/100\n",
      "1/1 [==============================] - 0s 501us/step - loss: 0.3221 - accuracy: 0.7500\n",
      "Epoch 32/100\n",
      "1/1 [==============================] - 0s 527us/step - loss: 0.3179 - accuracy: 0.7500\n",
      "Epoch 33/100\n",
      "1/1 [==============================] - 0s 619us/step - loss: 0.3137 - accuracy: 0.7500\n",
      "Epoch 34/100\n",
      "1/1 [==============================] - 0s 563us/step - loss: 0.3096 - accuracy: 0.7500\n",
      "Epoch 35/100\n",
      "1/1 [==============================] - 0s 535us/step - loss: 0.3057 - accuracy: 0.7500\n",
      "Epoch 36/100\n",
      "1/1 [==============================] - 0s 612us/step - loss: 0.3018 - accuracy: 0.7500\n",
      "Epoch 37/100\n",
      "1/1 [==============================] - 0s 553us/step - loss: 0.2980 - accuracy: 0.7500\n",
      "Epoch 38/100\n",
      "1/1 [==============================] - 0s 595us/step - loss: 0.2943 - accuracy: 0.7500\n",
      "Epoch 39/100\n",
      "1/1 [==============================] - 0s 737us/step - loss: 0.2907 - accuracy: 0.7500\n",
      "Epoch 40/100\n",
      "1/1 [==============================] - 0s 544us/step - loss: 0.2871 - accuracy: 0.7500\n",
      "Epoch 41/100\n",
      "1/1 [==============================] - 0s 733us/step - loss: 0.2836 - accuracy: 0.7500\n",
      "Epoch 42/100\n",
      "1/1 [==============================] - 0s 587us/step - loss: 0.2803 - accuracy: 0.7500\n",
      "Epoch 43/100\n",
      "1/1 [==============================] - 0s 514us/step - loss: 0.2769 - accuracy: 0.7500\n",
      "Epoch 44/100\n",
      "1/1 [==============================] - 0s 670us/step - loss: 0.2737 - accuracy: 0.7500\n",
      "Epoch 45/100\n",
      "1/1 [==============================] - 0s 629us/step - loss: 0.2705 - accuracy: 0.7500\n",
      "Epoch 46/100\n",
      "1/1 [==============================] - 0s 551us/step - loss: 0.2674 - accuracy: 1.0000\n",
      "Epoch 47/100\n",
      "1/1 [==============================] - 0s 3ms/step - loss: 0.2644 - accuracy: 1.0000\n",
      "Epoch 48/100\n",
      "1/1 [==============================] - 0s 767us/step - loss: 0.2614 - accuracy: 1.0000\n",
      "Epoch 49/100\n",
      "1/1 [==============================] - 0s 609us/step - loss: 0.2585 - accuracy: 1.0000\n",
      "Epoch 50/100\n",
      "1/1 [==============================] - 0s 1ms/step - loss: 0.2556 - accuracy: 1.0000\n",
      "Epoch 51/100\n",
      "1/1 [==============================] - 0s 640us/step - loss: 0.2528 - accuracy: 1.0000\n",
      "Epoch 52/100\n",
      "1/1 [==============================] - 0s 672us/step - loss: 0.2501 - accuracy: 1.0000\n",
      "Epoch 53/100\n",
      "1/1 [==============================] - 0s 604us/step - loss: 0.2474 - accuracy: 1.0000\n",
      "Epoch 54/100\n",
      "1/1 [==============================] - 0s 711us/step - loss: 0.2448 - accuracy: 1.0000\n",
      "Epoch 55/100\n",
      "1/1 [==============================] - 0s 762us/step - loss: 0.2422 - accuracy: 1.0000\n",
      "Epoch 56/100\n",
      "1/1 [==============================] - 0s 860us/step - loss: 0.2396 - accuracy: 1.0000\n",
      "Epoch 57/100\n",
      "1/1 [==============================] - 0s 623us/step - loss: 0.2372 - accuracy: 1.0000\n",
      "Epoch 58/100\n",
      "1/1 [==============================] - 0s 807us/step - loss: 0.2347 - accuracy: 1.0000\n",
      "Epoch 59/100\n",
      "1/1 [==============================] - 0s 591us/step - loss: 0.2323 - accuracy: 1.0000\n",
      "Epoch 60/100\n",
      "1/1 [==============================] - 0s 1ms/step - loss: 0.2300 - accuracy: 1.0000\n",
      "Epoch 61/100\n",
      "1/1 [==============================] - 0s 793us/step - loss: 0.2277 - accuracy: 1.0000\n",
      "Epoch 62/100\n",
      "1/1 [==============================] - 0s 586us/step - loss: 0.2254 - accuracy: 1.0000\n",
      "Epoch 63/100\n",
      "1/1 [==============================] - 0s 503us/step - loss: 0.2232 - accuracy: 1.0000\n",
      "Epoch 64/100\n",
      "1/1 [==============================] - 0s 529us/step - loss: 0.2210 - accuracy: 1.0000\n",
      "Epoch 65/100\n",
      "1/1 [==============================] - 0s 580us/step - loss: 0.2189 - accuracy: 1.0000\n",
      "Epoch 66/100\n",
      "1/1 [==============================] - 0s 694us/step - loss: 0.2168 - accuracy: 1.0000\n",
      "Epoch 67/100\n",
      "1/1 [==============================] - 0s 705us/step - loss: 0.2148 - accuracy: 1.0000\n",
      "Epoch 68/100\n",
      "1/1 [==============================] - 0s 1ms/step - loss: 0.2127 - accuracy: 1.0000\n",
      "Epoch 69/100\n",
      "1/1 [==============================] - 0s 4ms/step - loss: 0.2107 - accuracy: 1.0000\n",
      "Epoch 70/100\n",
      "1/1 [==============================] - 0s 2ms/step - loss: 0.2088 - accuracy: 1.0000\n",
      "Epoch 71/100\n",
      "1/1 [==============================] - 0s 1ms/step - loss: 0.2069 - accuracy: 1.0000\n",
      "Epoch 72/100\n",
      "1/1 [==============================] - 0s 953us/step - loss: 0.2050 - accuracy: 1.0000\n",
      "Epoch 73/100\n",
      "1/1 [==============================] - 0s 736us/step - loss: 0.2031 - accuracy: 1.0000\n",
      "Epoch 74/100\n",
      "1/1 [==============================] - 0s 743us/step - loss: 0.2013 - accuracy: 1.0000\n",
      "Epoch 75/100\n",
      "1/1 [==============================] - 0s 587us/step - loss: 0.1995 - accuracy: 1.0000\n",
      "Epoch 76/100\n",
      "1/1 [==============================] - 0s 807us/step - loss: 0.1978 - accuracy: 1.0000\n",
      "Epoch 77/100\n",
      "1/1 [==============================] - 0s 517us/step - loss: 0.1960 - accuracy: 1.0000\n",
      "Epoch 78/100\n",
      "1/1 [==============================] - 0s 668us/step - loss: 0.1943 - accuracy: 1.0000\n",
      "Epoch 79/100\n",
      "1/1 [==============================] - 0s 715us/step - loss: 0.1926 - accuracy: 1.0000\n",
      "Epoch 80/100\n",
      "1/1 [==============================] - 0s 568us/step - loss: 0.1910 - accuracy: 1.0000\n",
      "Epoch 81/100\n",
      "1/1 [==============================] - 0s 517us/step - loss: 0.1894 - accuracy: 1.0000\n",
      "Epoch 82/100\n",
      "1/1 [==============================] - 0s 586us/step - loss: 0.1878 - accuracy: 1.0000\n",
      "Epoch 83/100\n",
      "1/1 [==============================] - 0s 799us/step - loss: 0.1862 - accuracy: 1.0000\n",
      "Epoch 84/100\n",
      "1/1 [==============================] - 0s 667us/step - loss: 0.1846 - accuracy: 1.0000\n",
      "Epoch 85/100\n",
      "1/1 [==============================] - 0s 716us/step - loss: 0.1831 - accuracy: 1.0000\n",
      "Epoch 86/100\n",
      "1/1 [==============================] - 0s 568us/step - loss: 0.1816 - accuracy: 1.0000\n",
      "Epoch 87/100\n",
      "1/1 [==============================] - 0s 767us/step - loss: 0.1801 - accuracy: 1.0000\n",
      "Epoch 88/100\n",
      "1/1 [==============================] - 0s 763us/step - loss: 0.1787 - accuracy: 1.0000\n",
      "Epoch 89/100\n",
      "1/1 [==============================] - 0s 1ms/step - loss: 0.1773 - accuracy: 1.0000\n",
      "Epoch 90/100\n",
      "1/1 [==============================] - 0s 619us/step - loss: 0.1758 - accuracy: 1.0000\n",
      "Epoch 91/100\n",
      "1/1 [==============================] - 0s 1ms/step - loss: 0.1745 - accuracy: 1.0000\n",
      "Epoch 92/100\n",
      "1/1 [==============================] - 0s 1ms/step - loss: 0.1731 - accuracy: 1.0000\n",
      "Epoch 93/100\n",
      "1/1 [==============================] - 0s 632us/step - loss: 0.1717 - accuracy: 1.0000\n",
      "Epoch 94/100\n",
      "1/1 [==============================] - 0s 745us/step - loss: 0.1704 - accuracy: 1.0000\n",
      "Epoch 95/100\n",
      "1/1 [==============================] - 0s 707us/step - loss: 0.1691 - accuracy: 1.0000\n",
      "Epoch 96/100\n",
      "1/1 [==============================] - 0s 624us/step - loss: 0.1678 - accuracy: 1.0000\n",
      "Epoch 97/100\n",
      "1/1 [==============================] - 0s 556us/step - loss: 0.1665 - accuracy: 1.0000\n",
      "Epoch 98/100\n",
      "1/1 [==============================] - 0s 652us/step - loss: 0.1653 - accuracy: 1.0000\n",
      "Epoch 99/100\n",
      "1/1 [==============================] - 0s 5ms/step - loss: 0.1640 - accuracy: 1.0000\n",
      "Epoch 100/100\n",
      "1/1 [==============================] - 0s 2ms/step - loss: 0.1628 - accuracy: 1.0000\n"
     ]
    }
   ],
   "source": [
    "hist = model.fit(x,y,epochs=n_epoch,verbose=1)"
   ]
  },
  {
   "cell_type": "code",
   "execution_count": 6,
   "id": "dcd489cb",
   "metadata": {},
   "outputs": [
    {
     "data": {
      "image/png": "[encoded data removed]",
      "text/plain": [
       "<Figure size 432x288 with 1 Axes>"
      ]
     },
     "metadata": {
      "needs_background": "light"
     },
     "output_type": "display_data"
    }
   ],
   "source": [
    "plt.plot(hist.history[\"accuracy\"])\n",
    "plt.plot(hist.history[\"loss\"])\n",
    "plt.show()"
   ]
  },
  {
   "cell_type": "code",
   "execution_count": 8,
   "id": "7fb27ef3",
   "metadata": {},
   "outputs": [
    {
     "data": {
      "text/plain": [
       "array([[0.32150033],\n",
       "       [0.89591306],\n",
       "       [0.86902744],\n",
       "       [0.9917715 ]], dtype=float32)"
      ]
     },
     "execution_count": 8,
     "metadata": {},
     "output_type": "execute_result"
    }
   ],
   "source": [
    "model.predict(x)"
   ]
  },
  {
   "cell_type": "code",
   "execution_count": null,
   "id": "feed26ef",
   "metadata": {},
   "outputs": [],
   "source": []
  }
 ],
 "metadata": {
  "kernelspec": {
   "display_name": "Python 3 (ipykernel)",
   "language": "python",
   "name": "python3"
  },
  "language_info": {
   "codemirror_mode": {
    "name": "ipython",
    "version": 3
   },
   "file_extension": ".py",
   "mimetype": "text/x-python",
   "name": "python",
   "nbconvert_exporter": "python",
   "pygments_lexer": "ipython3",
   "version": "3.8.10"
  }
 },
 "nbformat": 4,
 "nbformat_minor": 5
}
